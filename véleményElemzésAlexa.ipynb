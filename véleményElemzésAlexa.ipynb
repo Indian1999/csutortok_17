{
  "nbformat": 4,
  "nbformat_minor": 0,
  "metadata": {
    "colab": {
      "provenance": [],
      "authorship_tag": "ABX9TyMfonQ/gi6j/xplu0WJc7Pc",
      "include_colab_link": true
    },
    "kernelspec": {
      "name": "python3",
      "display_name": "Python 3"
    },
    "language_info": {
      "name": "python"
    }
  },
  "cells": [
    {
      "cell_type": "markdown",
      "metadata": {
        "id": "view-in-github",
        "colab_type": "text"
      },
      "source": [
        "<a href=\"https://colab.research.google.com/github/Indian1999/csutortok_17/blob/main/v%C3%A9lem%C3%A9nyElemz%C3%A9sAlexa.ipynb\" target=\"_parent\"><img src=\"https://colab.research.google.com/assets/colab-badge.svg\" alt=\"Open In Colab\"/></a>"
      ]
    },
    {
      "cell_type": "markdown",
      "source": [
        "https://lsc.io/cadc6826\n"
      ],
      "metadata": {
        "id": "wdBmoLibT4AG"
      }
    },
    {
      "cell_type": "code",
      "source": [],
      "metadata": {
        "id": "H9vZsgqyT4tS"
      },
      "execution_count": null,
      "outputs": []
    }
  ]
}